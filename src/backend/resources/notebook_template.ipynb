{
 "cells": [
  {
   "cell_type": "code",
   "execution_count": null,
   "id": "b7a12da1",
   "metadata": {},
   "outputs": [],
   "source": [
    "# Setup env variables\n",
    "import os\n",
    "os.environ[\"TWELVE_API_KEY\"] = \"\"\n",
    "os.environ[\"POLYGON_API_KEY\"] = \"\"\n",
    "os.environ[\"ALPHAVANTAGE_API_KEY\"] = \"\""
   ]
  },
  {
   "cell_type": "code",
   "execution_count": null,
   "metadata": {
    "collapsed": false,
    "pycharm": {
     "name": "#%%\n"
    }
   },
   "outputs": [],
   "source": [
    "from market_alerts.config import *\n",
    "from market_alerts.domain.services import indicator_step, trading_step\n",
    "from market_alerts.domain.trade_fill_prices import *\n",
    "from market_alerts.utils import string_to_ms\n",
    "from market_alerts.entrypoints.jupyter.flow_constructor import Experiment, load_data, draw_price_charts, draw_indicators_charts, draw_trading_charts, draw_trading_charts_by_symbol, show_global_strategy_stats, show_dtale\n",
    "import ta, pandas as pd, pandas, sklearn\n",
    "\n",
    "\n"
   ]
  },
  {
   "cell_type": "markdown",
   "id": "eb622dd5",
   "metadata": {},
   "source": [
    "# Fetch data step"
   ]
  },
  {
   "cell_type": "code",
   "execution_count": null,
   "id": "2e4ba003",
   "metadata": {},
   "outputs": [],
   "source": [
    "experiment = Experiment(\n",
    "    data_provider=\"{data_provider}\",\n",
    "    time_period=string_to_ms(\"{time_period}\"),\n",
    "    interval=string_to_ms(\"{interval}\"),\n",
    "    tradable_symbols_prompt=\"{tradable_symbols_prompt}\",\n",
    "    supplementary_symbols_prompt=\"{supplementary_symbols_prompt}\",\n",
    "    datasets_keys={datasets_keys},\n",
    "    economic_indicators={economic_indicators},\n",
    "    dividend_fields={dividend_fields},\n",
    ")"
   ]
  },
  {
   "cell_type": "code",
   "execution_count": null,
   "id": "eb341e78",
   "metadata": {
    "pycharm": {
     "is_executing": true
    }
   },
   "outputs": [],
   "source": [
    "load_data(experiment)"
   ]
  },
  {
   "cell_type": "code",
   "execution_count": null,
   "id": "a297651f",
   "metadata": {},
   "outputs": [],
   "source": [
    "draw_price_charts(experiment)"
   ]
  },
  {
   "cell_type": "markdown",
   "id": "8c4e5b64",
   "metadata": {},
   "source": [
    "# Indicators step"
   ]
  },
  {
   "cell_type": "code",
   "execution_count": null,
   "id": "121cb4c3",
   "metadata": {},
   "outputs": [],
   "source": [
    "experiment.fx_rates = dict()\n",
    "\n",
    "\n",
    "def indicators_handler():\n",
    "{indicators_code}\n",
    "\n",
    "    return locals()"
   ]
  },
  {
   "cell_type": "code",
   "execution_count": null,
   "metadata": {
    "collapsed": false,
    "pycharm": {
     "name": "#%%\n"
    }
   },
   "outputs": [],
   "source": [
    "indicator_step(experiment, indicators_handler)"
   ]
  },
  {
   "cell_type": "code",
   "execution_count": null,
   "id": "30de20b5",
   "metadata": {},
   "outputs": [],
   "source": [
    "draw_indicators_charts(experiment)"
   ]
  },
  {
   "cell_type": "markdown",
   "id": "67500d50",
   "metadata": {},
   "source": [
    "# Backtesting step"
   ]
  },
  {
   "cell_type": "code",
   "execution_count": null,
   "id": "51c3032f",
   "metadata": {},
   "outputs": [],
   "source": [
    "experiment.actual_currency = \"{actual_currency}\"\n",
    "experiment.bet_size = {bet_size}\n",
    "experiment.per_instrument_gross_limit = {per_instrument_gross_limit}\n",
    "experiment.total_gross_limit = {total_gross_limit}\n",
    "experiment.nop_limit = {nop_limit}\n",
    "experiment.fill_trade_price = \"{fill_trade_price}\"\n",
    "experiment.execution_cost_bps = {execution_cost_bps}\n",
    "apply_dividends = {use_dividends_trading}\n",
    "\n",
    "\n",
    "def trading_handler():\n",
    "{trading_code}\n",
    "\n",
    "    return locals()"
   ]
  },
  {
   "cell_type": "code",
   "execution_count": null,
   "id": "c7188d08",
   "metadata": {},
   "outputs": [],
   "source": [
    "for progress in trading_step(experiment, trading_handler=trading_handler, apply_dividends=apply_dividends):\n",
    "    pass"
   ]
  },
  {
   "cell_type": "code",
   "execution_count": null,
   "id": "33cfc9b8",
   "metadata": {},
   "outputs": [],
   "source": [
    "draw_trading_charts_by_symbol(experiment)"
   ]
  },
  {
   "cell_type": "code",
   "execution_count": null,
   "id": "22974fbd",
   "metadata": {},
   "outputs": [],
   "source": [
    "draw_trading_charts(experiment)"
   ]
  },
  {
   "cell_type": "code",
   "execution_count": null,
   "id": "6b2cad63",
   "metadata": {
    "pycharm": {
     "name": "#%%\n"
    }
   },
   "outputs": [],
   "source": [
    "show_global_strategy_stats(experiment)"
   ]
  },
  {
   "cell_type": "code",
   "execution_count": null,
   "id": "45a41db6-e206-4ddc-82dc-4b97918d24d6",
   "metadata": {},
   "outputs": [],
   "source": [
    "#show_dtale(experiment = experiment)\n",
    "#show_dtale(experiment = experiment, symbols=[\"AAPL\"], columns=[\"close\", \"total_size\", \"acct_ccy_pnl\"], condition = lambda df: df.index > \"2010, 1, 1\")"
   ]
  }
 ],
 "metadata": {
  "kernelspec": {
   "display_name": "Python 3 (ipykernel)",
   "language": "python",
   "name": "python3"
  },
  "language_info": {
   "codemirror_mode": {
    "name": "ipython",
    "version": 3
   },
   "file_extension": ".py",
   "mimetype": "text/x-python",
   "name": "python",
   "nbconvert_exporter": "python",
   "pygments_lexer": "ipython3",
   "version": "3.11.5"
  }
 },
 "nbformat": 4,
 "nbformat_minor": 5
}
